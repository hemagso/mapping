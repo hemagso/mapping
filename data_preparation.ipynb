{
 "cells": [
  {
   "cell_type": "code",
   "execution_count": 1,
   "metadata": {},
   "outputs": [
    {
     "name": "stderr",
     "output_type": "stream",
     "text": [
      "Using TensorFlow backend.\n"
     ]
    },
    {
     "data": {
      "text/html": [
       "<div>\n",
       "<style>\n",
       "    .dataframe thead tr:only-child th {\n",
       "        text-align: right;\n",
       "    }\n",
       "\n",
       "    .dataframe thead th {\n",
       "        text-align: left;\n",
       "    }\n",
       "\n",
       "    .dataframe tbody tr th {\n",
       "        vertical-align: top;\n",
       "    }\n",
       "</style>\n",
       "<table border=\"1\" class=\"dataframe\">\n",
       "  <thead>\n",
       "    <tr style=\"text-align: right;\">\n",
       "      <th></th>\n",
       "      <th>COD_SETOR</th>\n",
       "      <th>COORD_ID</th>\n",
       "      <th>LAT</th>\n",
       "      <th>LNG</th>\n",
       "    </tr>\n",
       "  </thead>\n",
       "  <tbody>\n",
       "    <tr>\n",
       "      <th>0</th>\n",
       "      <td>355030801000001</td>\n",
       "      <td>0</td>\n",
       "      <td>-23.568380</td>\n",
       "      <td>-46.572104</td>\n",
       "    </tr>\n",
       "    <tr>\n",
       "      <th>1</th>\n",
       "      <td>355030801000001</td>\n",
       "      <td>1</td>\n",
       "      <td>-23.566752</td>\n",
       "      <td>-46.570455</td>\n",
       "    </tr>\n",
       "    <tr>\n",
       "      <th>2</th>\n",
       "      <td>355030801000001</td>\n",
       "      <td>2</td>\n",
       "      <td>-23.568870</td>\n",
       "      <td>-46.569899</td>\n",
       "    </tr>\n",
       "    <tr>\n",
       "      <th>3</th>\n",
       "      <td>355030801000001</td>\n",
       "      <td>3</td>\n",
       "      <td>-23.567367</td>\n",
       "      <td>-46.572305</td>\n",
       "    </tr>\n",
       "    <tr>\n",
       "      <th>4</th>\n",
       "      <td>355030801000001</td>\n",
       "      <td>4</td>\n",
       "      <td>-23.567225</td>\n",
       "      <td>-46.570765</td>\n",
       "    </tr>\n",
       "  </tbody>\n",
       "</table>\n",
       "</div>"
      ],
      "text/plain": [
       "         COD_SETOR  COORD_ID        LAT        LNG\n",
       "0  355030801000001         0 -23.568380 -46.572104\n",
       "1  355030801000001         1 -23.566752 -46.570455\n",
       "2  355030801000001         2 -23.568870 -46.569899\n",
       "3  355030801000001         3 -23.567367 -46.572305\n",
       "4  355030801000001         4 -23.567225 -46.570765"
      ]
     },
     "execution_count": 1,
     "metadata": {},
     "output_type": "execute_result"
    }
   ],
   "source": [
    "import os\n",
    "import numpy as np\n",
    "import pandas as pd\n",
    "import geopandas as gpd\n",
    "from keras.preprocessing.image import load_img\n",
    "\n",
    "df = pd.read_csv(\"./data/coordinates.csv\", names=[\"COD_SETOR\",\"COORD_ID\", \"LAT\", \"LNG\"])\n",
    "df.head()\n"
   ]
  },
  {
   "cell_type": "code",
   "execution_count": 43,
   "metadata": {},
   "outputs": [
    {
     "name": "stdout",
     "output_type": "stream",
     "text": [
      "0 / 183630\n",
      "5000 / 183630\n",
      "10000 / 183630\n",
      "15000 / 183630\n",
      "20000 / 183630\n",
      "25000 / 183630\n",
      "30000 / 183630\n",
      "35000 / 183630\n",
      "40000 / 183630\n",
      "45000 / 183630\n",
      "50000 / 183630\n",
      "55000 / 183630\n",
      "60000 / 183630\n",
      "65000 / 183630\n",
      "70000 / 183630\n",
      "75000 / 183630\n",
      "80000 / 183630\n",
      "85000 / 183630\n",
      "90000 / 183630\n",
      "95000 / 183630\n",
      "100000 / 183630\n",
      "105000 / 183630\n",
      "110000 / 183630\n",
      "115000 / 183630\n",
      "120000 / 183630\n",
      "125000 / 183630\n",
      "130000 / 183630\n",
      "135000 / 183630\n",
      "140000 / 183630\n",
      "145000 / 183630\n",
      "150000 / 183630\n",
      "155000 / 183630\n",
      "160000 / 183630\n",
      "165000 / 183630\n",
      "170000 / 183630\n",
      "175000 / 183630\n",
      "180000 / 183630\n",
      "Wrong dimensions =  0\n"
     ]
    }
   ],
   "source": [
    "%matplotlib inline \n",
    "import matplotlib.pyplot as plt\n",
    "\n",
    "def get_image_path(sector,iid):\n",
    "    return \"./images/streetview512/{sector}/IMG_{sector:15d}_{iid:03d}.jpg\".format(sector=int(sector), iid=int(iid))\n",
    "\n",
    "wrong_size = []\n",
    "\n",
    "for idx, record in df.iterrows():\n",
    "    if idx % 5000 == 0:\n",
    "        print(idx, \"/\", df.shape[0])\n",
    "    image = plt.imread(get_image_path(record[\"COD_SETOR\"], record[\"COORD_ID\"]))\n",
    "    if image.shape[0:2] != (244,244):\n",
    "        wrong_size.append((record[\"COD_SETOR\"], record[\"COORD_ID\"]))\n",
    "        \n",
    "print(\"Wrong dimensions = \", len(wrong_size))\n",
    "    "
   ]
  },
  {
   "cell_type": "code",
   "execution_count": 2,
   "metadata": {},
   "outputs": [
    {
     "data": {
      "text/plain": [
       "False"
      ]
     },
     "execution_count": 2,
     "metadata": {},
     "output_type": "execute_result"
    }
   ],
   "source": [
    "import matplotlib.pyplot as plt\n",
    "import numpy as np\n",
    "\n",
    "def get_image_path(sector,iid):\n",
    "    return \"./images/streetview512/{sector}/IMG_{sector:15d}_{iid:03d}.jpg\".format(sector=int(sector), iid=int(iid))\n",
    "\n",
    "error_template = load_img(\"./images/templates/missing_image512.jpg\")\n",
    "def check_picture(sector, iid):\n",
    "    img = plt.imread(get_image_path(sector,iid))\n",
    "    diff = img - error_template\n",
    "    if np.max(diff) == 0 and np.min(diff) == 0:\n",
    "        return False\n",
    "    else:\n",
    "        return True\n",
    "    \n",
    "check_picture(355030801000015,6)\n",
    "    "
   ]
  },
  {
   "cell_type": "code",
   "execution_count": 4,
   "metadata": {},
   "outputs": [
    {
     "name": "stdout",
     "output_type": "stream",
     "text": [
      "0 / 183630\n",
      "5000 / 183630\n",
      "10000 / 183630\n",
      "15000 / 183630\n",
      "20000 / 183630\n",
      "25000 / 183630\n",
      "30000 / 183630\n",
      "35000 / 183630\n",
      "40000 / 183630\n",
      "45000 / 183630\n",
      "50000 / 183630\n",
      "55000 / 183630\n",
      "60000 / 183630\n",
      "65000 / 183630\n",
      "70000 / 183630\n",
      "75000 / 183630\n",
      "80000 / 183630\n",
      "85000 / 183630\n",
      "90000 / 183630\n",
      "95000 / 183630\n",
      "100000 / 183630\n",
      "105000 / 183630\n",
      "110000 / 183630\n",
      "115000 / 183630\n",
      "120000 / 183630\n",
      "125000 / 183630\n",
      "130000 / 183630\n",
      "135000 / 183630\n",
      "140000 / 183630\n",
      "145000 / 183630\n",
      "150000 / 183630\n",
      "155000 / 183630\n",
      "160000 / 183630\n",
      "165000 / 183630\n",
      "170000 / 183630\n",
      "175000 / 183630\n",
      "180000 / 183630\n"
     ]
    }
   ],
   "source": [
    "blank_pictures = []\n",
    "\n",
    "for idx, record in df.iterrows():\n",
    "    if idx % 5000 == 0:\n",
    "        print(idx, \"/\", df.shape[0])\n",
    "    blank_pictures.append(check_picture(record[\"COD_SETOR\"], record[\"COORD_ID\"]))"
   ]
  },
  {
   "cell_type": "code",
   "execution_count": 5,
   "metadata": {},
   "outputs": [
    {
     "data": {
      "text/plain": [
       "20741"
      ]
     },
     "execution_count": 5,
     "metadata": {},
     "output_type": "execute_result"
    }
   ],
   "source": [
    "sum(0 if v else 1 for v in blank_pictures)"
   ]
  },
  {
   "cell_type": "code",
   "execution_count": 6,
   "metadata": {},
   "outputs": [
    {
     "data": {
      "text/html": [
       "<div>\n",
       "<style>\n",
       "    .dataframe thead tr:only-child th {\n",
       "        text-align: right;\n",
       "    }\n",
       "\n",
       "    .dataframe thead th {\n",
       "        text-align: left;\n",
       "    }\n",
       "\n",
       "    .dataframe tbody tr th {\n",
       "        vertical-align: top;\n",
       "    }\n",
       "</style>\n",
       "<table border=\"1\" class=\"dataframe\">\n",
       "  <thead>\n",
       "    <tr style=\"text-align: right;\">\n",
       "      <th></th>\n",
       "      <th>COD_SETOR</th>\n",
       "      <th>COORD_ID</th>\n",
       "      <th>LAT</th>\n",
       "      <th>LNG</th>\n",
       "      <th>HAS_PICTURE</th>\n",
       "    </tr>\n",
       "  </thead>\n",
       "  <tbody>\n",
       "    <tr>\n",
       "      <th>0</th>\n",
       "      <td>355030801000001</td>\n",
       "      <td>0</td>\n",
       "      <td>-23.568380</td>\n",
       "      <td>-46.572104</td>\n",
       "      <td>True</td>\n",
       "    </tr>\n",
       "    <tr>\n",
       "      <th>1</th>\n",
       "      <td>355030801000001</td>\n",
       "      <td>1</td>\n",
       "      <td>-23.566752</td>\n",
       "      <td>-46.570455</td>\n",
       "      <td>True</td>\n",
       "    </tr>\n",
       "    <tr>\n",
       "      <th>2</th>\n",
       "      <td>355030801000001</td>\n",
       "      <td>2</td>\n",
       "      <td>-23.568870</td>\n",
       "      <td>-46.569899</td>\n",
       "      <td>True</td>\n",
       "    </tr>\n",
       "    <tr>\n",
       "      <th>3</th>\n",
       "      <td>355030801000001</td>\n",
       "      <td>3</td>\n",
       "      <td>-23.567367</td>\n",
       "      <td>-46.572305</td>\n",
       "      <td>True</td>\n",
       "    </tr>\n",
       "    <tr>\n",
       "      <th>4</th>\n",
       "      <td>355030801000001</td>\n",
       "      <td>4</td>\n",
       "      <td>-23.567225</td>\n",
       "      <td>-46.570765</td>\n",
       "      <td>True</td>\n",
       "    </tr>\n",
       "  </tbody>\n",
       "</table>\n",
       "</div>"
      ],
      "text/plain": [
       "         COD_SETOR  COORD_ID        LAT        LNG  HAS_PICTURE\n",
       "0  355030801000001         0 -23.568380 -46.572104         True\n",
       "1  355030801000001         1 -23.566752 -46.570455         True\n",
       "2  355030801000001         2 -23.568870 -46.569899         True\n",
       "3  355030801000001         3 -23.567367 -46.572305         True\n",
       "4  355030801000001         4 -23.567225 -46.570765         True"
      ]
     },
     "execution_count": 6,
     "metadata": {},
     "output_type": "execute_result"
    }
   ],
   "source": [
    "df[\"HAS_PICTURE\"] = blank_pictures\n",
    "df.head()"
   ]
  },
  {
   "cell_type": "code",
   "execution_count": 7,
   "metadata": {
    "collapsed": true
   },
   "outputs": [],
   "source": [
    "df.to_csv(\"./data/coordinates_check_512.csv\", header=False)"
   ]
  },
  {
   "cell_type": "code",
   "execution_count": null,
   "metadata": {
    "collapsed": true
   },
   "outputs": [],
   "source": []
  }
 ],
 "metadata": {
  "kernelspec": {
   "display_name": "Python 3",
   "language": "python",
   "name": "python3"
  },
  "language_info": {
   "codemirror_mode": {
    "name": "ipython",
    "version": 3
   },
   "file_extension": ".py",
   "mimetype": "text/x-python",
   "name": "python",
   "nbconvert_exporter": "python",
   "pygments_lexer": "ipython3",
   "version": "3.6.1"
  }
 },
 "nbformat": 4,
 "nbformat_minor": 2
}
