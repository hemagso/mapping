{
 "cells": [
  {
   "cell_type": "markdown",
   "metadata": {},
   "source": [
    "# Generate Census Data\n",
    "In this notebook we will generate random points inside São Paulo City Census Sectors. This information will be used later for StreetView Image Retrieval and Image x IDH / IPVS 2010 cross reference"
   ]
  },
  {
   "cell_type": "code",
   "execution_count": 1,
   "metadata": {},
   "outputs": [
    {
     "name": "stdout",
     "output_type": "stream",
     "text": [
      "PyTables is not installed. No support for HDF output.\n",
      "SQLalchemy is not installed. No support for SQL output.\n"
     ]
    }
   ],
   "source": [
    "import shapefile\n",
    "import shapely.geometry\n",
    "import random\n",
    "import simpledbf\n",
    "import pandas as pd\n",
    "import utm\n",
    "import seaborn as sns\n",
    "import matplotlib.pyplot as plt\n",
    "\n",
    "random.seed(42)"
   ]
  },
  {
   "cell_type": "markdown",
   "metadata": {},
   "source": [
    "First, we import the Shapefiles that contain the 2010 Census Sector geometries. These files can be found at the Geosampa website (http://geosampa.prefeitura.sp.gov.br > Dados Abertos > População > Setor Censitário > Shapefile > SIRGAS_SETOR_CENSITARIO_2010)\n",
    "\n",
    "Also, let's import the DBF files that contain some data over the sectors:\n",
    "- ID: ID of the sector. Also, it indicates the order of the geometries in the shapefile file.\n",
    "- AREA_M: Area of the sector, in square meters.\n",
    "- CODSETOR: ID of the sector. Composed from the hierarchy of ID from the 2010 census data\n",
    "- TIPO: Sector type (Urbano = Urban, Rural = Rural)\n",
    "- POPULACAO: Sector population. Still trying to understand what the missing values are.\n",
    "- IPVS_V10: Índice Paulista de Vulnerabilidade Social (Paulista Index of Social Vulnerability). Missing values seems to be tied with POPULACAO missing values."
   ]
  },
  {
   "cell_type": "code",
   "execution_count": 2,
   "metadata": {
    "scrolled": true
   },
   "outputs": [
    {
     "data": {
      "text/html": [
       "<div>\n",
       "<style>\n",
       "    .dataframe thead tr:only-child th {\n",
       "        text-align: right;\n",
       "    }\n",
       "\n",
       "    .dataframe thead th {\n",
       "        text-align: left;\n",
       "    }\n",
       "\n",
       "    .dataframe tbody tr th {\n",
       "        vertical-align: top;\n",
       "    }\n",
       "</style>\n",
       "<table border=\"1\" class=\"dataframe\">\n",
       "  <thead>\n",
       "    <tr style=\"text-align: right;\">\n",
       "      <th></th>\n",
       "      <th>ID</th>\n",
       "      <th>AREA_M</th>\n",
       "      <th>CODSETOR</th>\n",
       "      <th>TIPO</th>\n",
       "      <th>POPULACAO</th>\n",
       "      <th>IPVS_V10</th>\n",
       "    </tr>\n",
       "  </thead>\n",
       "  <tbody>\n",
       "    <tr>\n",
       "      <th>0</th>\n",
       "      <td>1</td>\n",
       "      <td>311095.19</td>\n",
       "      <td>355030803000062</td>\n",
       "      <td>URBANO</td>\n",
       "      <td>NaN</td>\n",
       "      <td>NaN</td>\n",
       "    </tr>\n",
       "    <tr>\n",
       "      <th>1</th>\n",
       "      <td>2</td>\n",
       "      <td>49953.56</td>\n",
       "      <td>355030803000069</td>\n",
       "      <td>RURAL</td>\n",
       "      <td>NaN</td>\n",
       "      <td>NaN</td>\n",
       "    </tr>\n",
       "    <tr>\n",
       "      <th>2</th>\n",
       "      <td>3</td>\n",
       "      <td>238621.26</td>\n",
       "      <td>355030803000063</td>\n",
       "      <td>RURAL</td>\n",
       "      <td>NaN</td>\n",
       "      <td>NaN</td>\n",
       "    </tr>\n",
       "    <tr>\n",
       "      <th>3</th>\n",
       "      <td>4</td>\n",
       "      <td>6912969.36</td>\n",
       "      <td>355030803000049</td>\n",
       "      <td>RURAL</td>\n",
       "      <td>32.0</td>\n",
       "      <td>0.0</td>\n",
       "    </tr>\n",
       "    <tr>\n",
       "      <th>4</th>\n",
       "      <td>5</td>\n",
       "      <td>81244.42</td>\n",
       "      <td>355030803000072</td>\n",
       "      <td>RURAL</td>\n",
       "      <td>NaN</td>\n",
       "      <td>NaN</td>\n",
       "    </tr>\n",
       "  </tbody>\n",
       "</table>\n",
       "</div>"
      ],
      "text/plain": [
       "   ID      AREA_M         CODSETOR    TIPO  POPULACAO  IPVS_V10\n",
       "0   1   311095.19  355030803000062  URBANO        NaN       NaN\n",
       "1   2    49953.56  355030803000069   RURAL        NaN       NaN\n",
       "2   3   238621.26  355030803000063   RURAL        NaN       NaN\n",
       "3   4  6912969.36  355030803000049   RURAL       32.0       0.0\n",
       "4   5    81244.42  355030803000072   RURAL        NaN       NaN"
      ]
     },
     "execution_count": 2,
     "metadata": {},
     "output_type": "execute_result"
    }
   ],
   "source": [
    "sf = shapefile.Reader(\"./data/polygons/LAYER_CENSITARIO/SIRGAS_SETOR_CENSITARIO_2010\")\n",
    "dbf = simpledbf.Dbf5(\"./data/polygons/LAYER_CENSITARIO/SIRGAS_SETOR_CENSITARIO_2010.dbf\")\n",
    "df_dbf = dbf.to_dataframe()\n",
    "\n",
    "df_dbf.head()"
   ]
  },
  {
   "cell_type": "markdown",
   "metadata": {},
   "source": [
    "Let's do some exploration on the above dataset. Below we use seaborn to plot the join distribution of AREA_M and POPULACAO"
   ]
  },
  {
   "cell_type": "code",
   "execution_count": 3,
   "metadata": {},
   "outputs": [
    {
     "data": {
      "text/plain": [
       "<seaborn.axisgrid.JointGrid at 0x2d5f2b89160>"
      ]
     },
     "execution_count": 3,
     "metadata": {},
     "output_type": "execute_result"
    },
    {
     "data": {
      "image/png": "[encoded data removed]",
      "text/plain": [
       "<matplotlib.figure.Figure at 0x2d5f5e578d0>"
      ]
     },
     "metadata": {},
     "output_type": "display_data"
    }
   ],
   "source": [
    "%matplotlib inline\n",
    "\n",
    "sns.jointplot(data=df_dbf, x=\"AREA_M\", y=\"POPULACAO\")\n"
   ]
  },
  {
   "cell_type": "markdown",
   "metadata": {},
   "source": [
    "It's easy to see that we have some AREA_M outliers that are messing up our visualization. Let's take a look by removing the top 5% sector areas from our analysis. We also change the plot to use a KDE (Kernel Density Estimation) to allow us beter insights at the data."
   ]
  },
  {
   "cell_type": "code",
   "execution_count": 4,
   "metadata": {},
   "outputs": [
    {
     "data": {
      "text/plain": [
       "<seaborn.axisgrid.JointGrid at 0x2d5f5e57f28>"
      ]
     },
     "execution_count": 4,
     "metadata": {},
     "output_type": "execute_result"
    },
    {
     "data": {
      "image/png": "[encoded data removed]",
      "text/plain": [
       "<matplotlib.figure.Figure at 0x2d5f5e57cf8>"
      ]
     },
     "metadata": {},
     "output_type": "display_data"
    }
   ],
   "source": [
    "%matplotlib inline\n",
    "\n",
    "q_95 = df_dbf[\"AREA_M\"].quantile(0.95)\n",
    "\n",
    "sns.jointplot(\n",
    "    data=df_dbf[df_dbf[\"AREA_M\"] < q_95], \n",
    "    x=\"AREA_M\", \n",
    "    y=\"POPULACAO\",\n",
    "    kind=\"kde\"\n",
    ")"
   ]
  },
  {
   "cell_type": "markdown",
   "metadata": {},
   "source": [
    "Is AREA_M related to TIPO? We expect that a Rural Sector to be bigger than a Urban sector. Let's find out."
   ]
  },
  {
   "cell_type": "code",
   "execution_count": 5,
   "metadata": {},
   "outputs": [
    {
     "data": {
      "text/plain": [
       "<matplotlib.axes._subplots.AxesSubplot at 0x2d5f70aac88>"
      ]
     },
     "execution_count": 5,
     "metadata": {},
     "output_type": "execute_result"
    },
    {
     "data": {
      "image/png": "[encoded data removed]",
      "text/plain": [
       "<matplotlib.figure.Figure at 0x2d5f603fd30>"
      ]
     },
     "metadata": {},
     "output_type": "display_data"
    }
   ],
   "source": [
    "f, (ax1, ax2) = plt.subplots(1,2,figsize=(12,6),)\n",
    "\n",
    "ax1.set_title(\"Rural\")\n",
    "ax1.set(xlim=(0,200000))\n",
    "sns.distplot(df_dbf.loc[\n",
    "    (df_dbf[\"TIPO\"] == \"RURAL\")  & (df_dbf[\"AREA_M\"] < q_95),\n",
    "    \"AREA_M\"\n",
    "], ax=ax1)\n",
    "\n",
    "ax2.set_title(\"Urban\")\n",
    "ax2.set(xlim=(0,200000))\n",
    "sns.distplot(df_dbf.loc[\n",
    "    (df_dbf[\"TIPO\"] == \"URBANO\") & (df_dbf[\"AREA_M\"] < q_95),\n",
    "    \"AREA_M\",    \n",
    "], ax=ax2)"
   ]
  },
  {
   "cell_type": "markdown",
   "metadata": {},
   "source": [
    "Ok. Now that we have some knowledge about our dataset, let's start working on our actual problem. We want to generate random points inside a Census Sector, that will be used afterwards for Streetview image retrieval. For this, let's define a generator that will calculate this ccoordinates."
   ]
  },
  {
   "cell_type": "code",
   "execution_count": 6,
   "metadata": {
    "collapsed": true
   },
   "outputs": [],
   "source": [
    "def coordinate_generator(shape, n):\n",
    "    #UTM Region of the shapefile\n",
    "    UTM_REGION_1 = 23\n",
    "    UTM_REGION_2 = \"K\"    \n",
    "    #Converting shape to shapely\n",
    "    sh = shapely.geometry.shape(shape) \n",
    "    #Getting bounding box from shape\n",
    "    x_min, y_min, x_max, y_max = tuple(map(float,shape.bbox))\n",
    "    #Generator Loop\n",
    "    i = 0\n",
    "    while i < n:\n",
    "        #Generate a random point inside the bounding box, and check\n",
    "        #if it falls inside the sector geometry\n",
    "        pt_x = x_min+random.uniform(0,1)*(x_max-x_min)\n",
    "        pt_y = y_min+random.uniform(0,1)*(y_max-y_min)\n",
    "        pt = shapely.geometry.Point(pt_x,pt_y)\n",
    "        if sh.contains(pt):\n",
    "            #Convert to (latitude,longitude) tuples\n",
    "            yield utm.to_latlon(pt.x, pt.y, UTM_REGION_1, UTM_REGION_2)    \n",
    "            i = i + 1"
   ]
  },
  {
   "cell_type": "markdown",
   "metadata": {},
   "source": [
    "We can now use our newly defined generator to generate 10 random points for each census sector. We also take the opportunity to provide and example of how to use IPyWidgets to build a nice progress bar suited for longer processes"
   ]
  },
  {
   "cell_type": "code",
   "execution_count": 7,
   "metadata": {},
   "outputs": [
    {
     "data": {
      "application/vnd.jupyter.widget-view+json": {
       "model_id": "2fdc7f2e84534cf3be3a8ade4c56f147"
      }
     },
     "metadata": {},
     "output_type": "display_data"
    }
   ],
   "source": [
    "from ipywidgets import IntProgress, HTML, VBox\n",
    "from IPython.display import display\n",
    "\n",
    "progress = IntProgress(min=df_dbf.index.min(), max=df_dbf.index.max(), description=\"Generating\")\n",
    "label = HTML()\n",
    "box = VBox(children=[label, progress])\n",
    "display(box)\n",
    "\n",
    "census_coord = []\n",
    "shape_list = sf.shapes()\n",
    "\n",
    "try:\n",
    "    for idx, row in df_dbf.iterrows():\n",
    "        if idx % 100 == 0: #Update from 100 to 100\n",
    "            progress.value = idx\n",
    "            label.value = \"{idx}/{maxv}\".format(idx=idx,maxv=df_dbf.index.max())\n",
    "        shape = shape_list[idx]\n",
    "        census_coord = census_coord + [(idx,i, pt[0], pt[1]) for i, pt in enumerate(coordinate_generator(shape,10))]\n",
    "    \n",
    "    #Signal successful execution\n",
    "    progress.value = df_dbf.index.max()\n",
    "    progress.bar_style  = \"success\"\n",
    "    label.value = \"Completo\"\n",
    "except:\n",
    "    #Update bar to show error, and re-raise the exception\n",
    "    progress.bar_style  = \"danger\"\n",
    "    label.value = \"Error!\"\n",
    "    raise"
   ]
  },
  {
   "cell_type": "markdown",
   "metadata": {},
   "source": [
    "Now, let's save our generated coordinates to a CSV file. This way, if we need to continue our work on another day we can do it without having to generate all our data again"
   ]
  },
  {
   "cell_type": "code",
   "execution_count": 9,
   "metadata": {},
   "outputs": [
    {
     "data": {
      "text/html": [
       "<div>\n",
       "<style>\n",
       "    .dataframe thead tr:only-child th {\n",
       "        text-align: right;\n",
       "    }\n",
       "\n",
       "    .dataframe thead th {\n",
       "        text-align: left;\n",
       "    }\n",
       "\n",
       "    .dataframe tbody tr th {\n",
       "        vertical-align: top;\n",
       "    }\n",
       "</style>\n",
       "<table border=\"1\" class=\"dataframe\">\n",
       "  <thead>\n",
       "    <tr style=\"text-align: right;\">\n",
       "      <th></th>\n",
       "      <th>ID_CENSUS</th>\n",
       "      <th>ID_COORDINATE</th>\n",
       "      <th>VL_LATITUDE</th>\n",
       "      <th>VL_LONGITUDE</th>\n",
       "    </tr>\n",
       "  </thead>\n",
       "  <tbody>\n",
       "    <tr>\n",
       "      <th>0</th>\n",
       "      <td>0</td>\n",
       "      <td>0</td>\n",
       "      <td>-23.409850</td>\n",
       "      <td>-46.817878</td>\n",
       "    </tr>\n",
       "    <tr>\n",
       "      <th>1</th>\n",
       "      <td>0</td>\n",
       "      <td>1</td>\n",
       "      <td>-23.406803</td>\n",
       "      <td>-46.823728</td>\n",
       "    </tr>\n",
       "    <tr>\n",
       "      <th>2</th>\n",
       "      <td>0</td>\n",
       "      <td>2</td>\n",
       "      <td>-23.406565</td>\n",
       "      <td>-46.819952</td>\n",
       "    </tr>\n",
       "    <tr>\n",
       "      <th>3</th>\n",
       "      <td>0</td>\n",
       "      <td>3</td>\n",
       "      <td>-23.406206</td>\n",
       "      <td>-46.823704</td>\n",
       "    </tr>\n",
       "    <tr>\n",
       "      <th>4</th>\n",
       "      <td>0</td>\n",
       "      <td>4</td>\n",
       "      <td>-23.408079</td>\n",
       "      <td>-46.817285</td>\n",
       "    </tr>\n",
       "  </tbody>\n",
       "</table>\n",
       "</div>"
      ],
      "text/plain": [
       "   ID_CENSUS  ID_COORDINATE  VL_LATITUDE  VL_LONGITUDE\n",
       "0          0              0   -23.409850    -46.817878\n",
       "1          0              1   -23.406803    -46.823728\n",
       "2          0              2   -23.406565    -46.819952\n",
       "3          0              3   -23.406206    -46.823704\n",
       "4          0              4   -23.408079    -46.817285"
      ]
     },
     "execution_count": 9,
     "metadata": {},
     "output_type": "execute_result"
    }
   ],
   "source": [
    "df_census = pd.DataFrame(census_coord,columns=[\"ID_CENSUS\", \"ID_COORDINATE\", \"VL_LATITUDE\", \"VL_LONGITUDE\"])\n",
    "df_census.to_csv(r\"./data/generated/census_coordinates.csv\")\n",
    "df_census.head()"
   ]
  },
  {
   "cell_type": "markdown",
   "metadata": {},
   "source": [
    "Finally, we plot some of the coordinates on a map using the gmaps module (https://github.com/pbugnion/gmaps) to assess if our program is doing what we expected from it. It surely seems so!"
   ]
  },
  {
   "cell_type": "code",
   "execution_count": 10,
   "metadata": {},
   "outputs": [
    {
     "data": {
      "application/vnd.jupyter.widget-view+json": {
       "model_id": "88dfa07394ab48bfb5db6cbe46f2578a"
      }
     },
     "metadata": {},
     "output_type": "display_data"
    }
   ],
   "source": [
    "import gmaps\n",
    "import gmaps.datasets\n",
    "import sensitive #Module ignored by GIT which contains sensitive information like my Google Maps API Key\n",
    "\n",
    "gmaps.configure(api_key=sensitive.API_KEY) # Your Google API key\n",
    "\n",
    "\n",
    "points = df_census[[\"VL_LATITUDE\",\"VL_LONGITUDE\"]].iloc[range(1000,1010)].values\n",
    "\n",
    "fig = gmaps.figure()\n",
    "fig.add_layer(gmaps.symbol_layer(points,fill_color=\"green\", stroke_color=\"green\"))\n",
    "fig"
   ]
  },
  {
   "cell_type": "markdown",
   "metadata": {},
   "source": [
    "And thats it! On the next notebookk we will write some code to retrieve the Streetview images for the coordinates generated here."
   ]
  }
 ],
 "metadata": {
  "kernelspec": {
   "display_name": "Python 3",
   "language": "python",
   "name": "python3"
  },
  "language_info": {
   "codemirror_mode": {
    "name": "ipython",
    "version": 3
   },
   "file_extension": ".py",
   "mimetype": "text/x-python",
   "name": "python",
   "nbconvert_exporter": "python",
   "pygments_lexer": "ipython3",
   "version": "3.5.3"
  }
 },
 "nbformat": 4,
 "nbformat_minor": 2
}
