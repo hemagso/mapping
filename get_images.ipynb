{
 "cells": [
  {
   "cell_type": "code",
   "execution_count": 1,
   "metadata": {},
   "outputs": [],
   "source": [
    "from mapretrieve import *\n",
    "import pandas as pd"
   ]
  },
  {
   "cell_type": "code",
   "execution_count": 2,
   "metadata": {},
   "outputs": [
    {
     "data": {
      "text/html": [
       "<div>\n",
       "<style>\n",
       "    .dataframe thead tr:only-child th {\n",
       "        text-align: right;\n",
       "    }\n",
       "\n",
       "    .dataframe thead th {\n",
       "        text-align: left;\n",
       "    }\n",
       "\n",
       "    .dataframe tbody tr th {\n",
       "        vertical-align: top;\n",
       "    }\n",
       "</style>\n",
       "<table border=\"1\" class=\"dataframe\">\n",
       "  <thead>\n",
       "    <tr style=\"text-align: right;\">\n",
       "      <th></th>\n",
       "      <th>COD_SETOR</th>\n",
       "      <th>COORD_ID</th>\n",
       "      <th>LAT</th>\n",
       "      <th>LNG</th>\n",
       "    </tr>\n",
       "  </thead>\n",
       "  <tbody>\n",
       "    <tr>\n",
       "      <th>0</th>\n",
       "      <td>355030801000001</td>\n",
       "      <td>0</td>\n",
       "      <td>-23.568380</td>\n",
       "      <td>-46.572104</td>\n",
       "    </tr>\n",
       "    <tr>\n",
       "      <th>1</th>\n",
       "      <td>355030801000001</td>\n",
       "      <td>1</td>\n",
       "      <td>-23.566752</td>\n",
       "      <td>-46.570455</td>\n",
       "    </tr>\n",
       "    <tr>\n",
       "      <th>2</th>\n",
       "      <td>355030801000001</td>\n",
       "      <td>2</td>\n",
       "      <td>-23.568870</td>\n",
       "      <td>-46.569899</td>\n",
       "    </tr>\n",
       "    <tr>\n",
       "      <th>3</th>\n",
       "      <td>355030801000001</td>\n",
       "      <td>3</td>\n",
       "      <td>-23.567367</td>\n",
       "      <td>-46.572305</td>\n",
       "    </tr>\n",
       "    <tr>\n",
       "      <th>4</th>\n",
       "      <td>355030801000001</td>\n",
       "      <td>4</td>\n",
       "      <td>-23.567225</td>\n",
       "      <td>-46.570765</td>\n",
       "    </tr>\n",
       "  </tbody>\n",
       "</table>\n",
       "</div>"
      ],
      "text/plain": [
       "         COD_SETOR  COORD_ID        LAT        LNG\n",
       "0  355030801000001         0 -23.568380 -46.572104\n",
       "1  355030801000001         1 -23.566752 -46.570455\n",
       "2  355030801000001         2 -23.568870 -46.569899\n",
       "3  355030801000001         3 -23.567367 -46.572305\n",
       "4  355030801000001         4 -23.567225 -46.570765"
      ]
     },
     "execution_count": 2,
     "metadata": {},
     "output_type": "execute_result"
    }
   ],
   "source": [
    "df = pd.read_csv(\"./data/coordinates.csv\",names=[\"COD_SETOR\", \"COORD_ID\", \"LAT\", \"LNG\"])\n",
    "df.head()"
   ]
  },
  {
   "cell_type": "code",
   "execution_count": 8,
   "metadata": {},
   "outputs": [
    {
     "data": {
      "text/plain": [
       "2485"
      ]
     },
     "execution_count": 8,
     "metadata": {},
     "output_type": "execute_result"
    }
   ],
   "source": [
    "import os\n",
    "\n",
    "success = []\n",
    "\n",
    "for census_dir in os.listdir(\"./images\"):\n",
    "    fullpath = os.path.join(\"./images\",census_dir)\n",
    "    if len(os.listdir(fullpath)) == 10:\n",
    "        success.append(int(census_dir))\n",
    "        \n",
    "len(success)"
   ]
  },
  {
   "cell_type": "code",
   "execution_count": 10,
   "metadata": {},
   "outputs": [
    {
     "data": {
      "text/html": [
       "<div>\n",
       "<style>\n",
       "    .dataframe thead tr:only-child th {\n",
       "        text-align: right;\n",
       "    }\n",
       "\n",
       "    .dataframe thead th {\n",
       "        text-align: left;\n",
       "    }\n",
       "\n",
       "    .dataframe tbody tr th {\n",
       "        vertical-align: top;\n",
       "    }\n",
       "</style>\n",
       "<table border=\"1\" class=\"dataframe\">\n",
       "  <thead>\n",
       "    <tr style=\"text-align: right;\">\n",
       "      <th></th>\n",
       "      <th>COD_SETOR</th>\n",
       "      <th>COORD_ID</th>\n",
       "      <th>LAT</th>\n",
       "      <th>LNG</th>\n",
       "    </tr>\n",
       "  </thead>\n",
       "  <tbody>\n",
       "    <tr>\n",
       "      <th>15950</th>\n",
       "      <td>355030813000136</td>\n",
       "      <td>0</td>\n",
       "      <td>-23.480626</td>\n",
       "      <td>-46.656447</td>\n",
       "    </tr>\n",
       "    <tr>\n",
       "      <th>15951</th>\n",
       "      <td>355030813000136</td>\n",
       "      <td>1</td>\n",
       "      <td>-23.480818</td>\n",
       "      <td>-46.657666</td>\n",
       "    </tr>\n",
       "    <tr>\n",
       "      <th>15952</th>\n",
       "      <td>355030813000136</td>\n",
       "      <td>2</td>\n",
       "      <td>-23.481314</td>\n",
       "      <td>-46.658303</td>\n",
       "    </tr>\n",
       "    <tr>\n",
       "      <th>15953</th>\n",
       "      <td>355030813000136</td>\n",
       "      <td>3</td>\n",
       "      <td>-23.481842</td>\n",
       "      <td>-46.657129</td>\n",
       "    </tr>\n",
       "    <tr>\n",
       "      <th>15954</th>\n",
       "      <td>355030813000136</td>\n",
       "      <td>4</td>\n",
       "      <td>-23.480641</td>\n",
       "      <td>-46.656531</td>\n",
       "    </tr>\n",
       "  </tbody>\n",
       "</table>\n",
       "</div>"
      ],
      "text/plain": [
       "             COD_SETOR  COORD_ID        LAT        LNG\n",
       "15950  355030813000136         0 -23.480626 -46.656447\n",
       "15951  355030813000136         1 -23.480818 -46.657666\n",
       "15952  355030813000136         2 -23.481314 -46.658303\n",
       "15953  355030813000136         3 -23.481842 -46.657129\n",
       "15954  355030813000136         4 -23.480641 -46.656531"
      ]
     },
     "execution_count": 10,
     "metadata": {},
     "output_type": "execute_result"
    }
   ],
   "source": [
    "df_filter = df[~df[\"COD_SETOR\"].isin(success)]\n",
    "df_filter.head()"
   ]
  },
  {
   "cell_type": "code",
   "execution_count": 7,
   "metadata": {},
   "outputs": [
    {
     "name": "stdout",
     "output_type": "stream",
     "text": [
      "An error has ocurred\n",
      "Error 403: You have exceeded your Google API usage limit\n"
     ]
    }
   ],
   "source": [
    "try:\n",
    "    retrieve_geo_df(df_filter)\n",
    "except GoogleAPIError as err:\n",
    "    print(\"An error has ocurred\")\n",
    "    print(err.message)"
   ]
  },
  {
   "cell_type": "code",
   "execution_count": null,
   "metadata": {
    "collapsed": true
   },
   "outputs": [],
   "source": []
  }
 ],
 "metadata": {
  "kernelspec": {
   "display_name": "Python 3",
   "language": "python",
   "name": "python3"
  },
  "language_info": {
   "codemirror_mode": {
    "name": "ipython",
    "version": 3
   },
   "file_extension": ".py",
   "mimetype": "text/x-python",
   "name": "python",
   "nbconvert_exporter": "python",
   "pygments_lexer": "ipython3",
   "version": "3.6.1"
  }
 },
 "nbformat": 4,
 "nbformat_minor": 2
}
