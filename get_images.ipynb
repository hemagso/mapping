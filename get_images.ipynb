{
 "cells": [
  {
   "cell_type": "code",
   "execution_count": 1,
   "metadata": {
    "collapsed": true
   },
   "outputs": [],
   "source": [
    "from mapretrieve import *\n",
    "import pandas as pd"
   ]
  },
  {
   "cell_type": "code",
   "execution_count": 2,
   "metadata": {},
   "outputs": [
    {
     "data": {
      "text/html": [
       "<div>\n",
       "<style>\n",
       "    .dataframe thead tr:only-child th {\n",
       "        text-align: right;\n",
       "    }\n",
       "\n",
       "    .dataframe thead th {\n",
       "        text-align: left;\n",
       "    }\n",
       "\n",
       "    .dataframe tbody tr th {\n",
       "        vertical-align: top;\n",
       "    }\n",
       "</style>\n",
       "<table border=\"1\" class=\"dataframe\">\n",
       "  <thead>\n",
       "    <tr style=\"text-align: right;\">\n",
       "      <th></th>\n",
       "      <th>COD_SETOR</th>\n",
       "      <th>COORD_ID</th>\n",
       "      <th>LAT</th>\n",
       "      <th>LNG</th>\n",
       "    </tr>\n",
       "  </thead>\n",
       "  <tbody>\n",
       "    <tr>\n",
       "      <th>0</th>\n",
       "      <td>355030801000001</td>\n",
       "      <td>0</td>\n",
       "      <td>-23.568380</td>\n",
       "      <td>-46.572104</td>\n",
       "    </tr>\n",
       "    <tr>\n",
       "      <th>1</th>\n",
       "      <td>355030801000001</td>\n",
       "      <td>1</td>\n",
       "      <td>-23.566752</td>\n",
       "      <td>-46.570455</td>\n",
       "    </tr>\n",
       "    <tr>\n",
       "      <th>2</th>\n",
       "      <td>355030801000001</td>\n",
       "      <td>2</td>\n",
       "      <td>-23.568870</td>\n",
       "      <td>-46.569899</td>\n",
       "    </tr>\n",
       "    <tr>\n",
       "      <th>3</th>\n",
       "      <td>355030801000001</td>\n",
       "      <td>3</td>\n",
       "      <td>-23.567367</td>\n",
       "      <td>-46.572305</td>\n",
       "    </tr>\n",
       "    <tr>\n",
       "      <th>4</th>\n",
       "      <td>355030801000001</td>\n",
       "      <td>4</td>\n",
       "      <td>-23.567225</td>\n",
       "      <td>-46.570765</td>\n",
       "    </tr>\n",
       "  </tbody>\n",
       "</table>\n",
       "</div>"
      ],
      "text/plain": [
       "         COD_SETOR  COORD_ID        LAT        LNG\n",
       "0  355030801000001         0 -23.568380 -46.572104\n",
       "1  355030801000001         1 -23.566752 -46.570455\n",
       "2  355030801000001         2 -23.568870 -46.569899\n",
       "3  355030801000001         3 -23.567367 -46.572305\n",
       "4  355030801000001         4 -23.567225 -46.570765"
      ]
     },
     "execution_count": 2,
     "metadata": {},
     "output_type": "execute_result"
    }
   ],
   "source": [
    "df = pd.read_csv(\"./data/coordinates.csv\",names=[\"COD_SETOR\", \"COORD_ID\", \"LAT\", \"LNG\"])\n",
    "df.head()"
   ]
  },
  {
   "cell_type": "code",
   "execution_count": 3,
   "metadata": {},
   "outputs": [
    {
     "name": "stdout",
     "output_type": "stream",
     "text": [
      "./images/streetview512\\355030848000008\n",
      "./images/streetview512\\355030894000268\n"
     ]
    },
    {
     "data": {
      "text/plain": [
       "17990"
      ]
     },
     "execution_count": 3,
     "metadata": {},
     "output_type": "execute_result"
    }
   ],
   "source": [
    "import os\n",
    "\n",
    "success = []\n",
    "\n",
    "for census_dir in os.listdir(\"./images/streetview512\"):\n",
    "    fullpath = os.path.join(\"./images/streetview512\",census_dir)\n",
    "    if len(os.listdir(fullpath)) == 10:\n",
    "        success.append(int(census_dir))\n",
    "    else:\n",
    "        print(fullpath)\n",
    "        \n",
    "len(success)"
   ]
  },
  {
   "cell_type": "code",
   "execution_count": 4,
   "metadata": {},
   "outputs": [
    {
     "data": {
      "text/html": [
       "<div>\n",
       "<style>\n",
       "    .dataframe thead tr:only-child th {\n",
       "        text-align: right;\n",
       "    }\n",
       "\n",
       "    .dataframe thead th {\n",
       "        text-align: left;\n",
       "    }\n",
       "\n",
       "    .dataframe tbody tr th {\n",
       "        vertical-align: top;\n",
       "    }\n",
       "</style>\n",
       "<table border=\"1\" class=\"dataframe\">\n",
       "  <thead>\n",
       "    <tr style=\"text-align: right;\">\n",
       "      <th></th>\n",
       "      <th>COD_SETOR</th>\n",
       "      <th>COORD_ID</th>\n",
       "      <th>LAT</th>\n",
       "      <th>LNG</th>\n",
       "    </tr>\n",
       "  </thead>\n",
       "  <tbody>\n",
       "    <tr>\n",
       "      <th>96340</th>\n",
       "      <td>355030848000008</td>\n",
       "      <td>0</td>\n",
       "      <td>-23.526855</td>\n",
       "      <td>-46.705998</td>\n",
       "    </tr>\n",
       "    <tr>\n",
       "      <th>96341</th>\n",
       "      <td>355030848000008</td>\n",
       "      <td>1</td>\n",
       "      <td>-23.526224</td>\n",
       "      <td>-46.708220</td>\n",
       "    </tr>\n",
       "    <tr>\n",
       "      <th>96342</th>\n",
       "      <td>355030848000008</td>\n",
       "      <td>2</td>\n",
       "      <td>-23.525325</td>\n",
       "      <td>-46.708095</td>\n",
       "    </tr>\n",
       "    <tr>\n",
       "      <th>96343</th>\n",
       "      <td>355030848000008</td>\n",
       "      <td>3</td>\n",
       "      <td>-23.526241</td>\n",
       "      <td>-46.706907</td>\n",
       "    </tr>\n",
       "    <tr>\n",
       "      <th>96344</th>\n",
       "      <td>355030848000008</td>\n",
       "      <td>4</td>\n",
       "      <td>-23.526665</td>\n",
       "      <td>-46.708024</td>\n",
       "    </tr>\n",
       "  </tbody>\n",
       "</table>\n",
       "</div>"
      ],
      "text/plain": [
       "             COD_SETOR  COORD_ID        LAT        LNG\n",
       "96340  355030848000008         0 -23.526855 -46.705998\n",
       "96341  355030848000008         1 -23.526224 -46.708220\n",
       "96342  355030848000008         2 -23.525325 -46.708095\n",
       "96343  355030848000008         3 -23.526241 -46.706907\n",
       "96344  355030848000008         4 -23.526665 -46.708024"
      ]
     },
     "execution_count": 4,
     "metadata": {},
     "output_type": "execute_result"
    }
   ],
   "source": [
    "df_filter = df[~df[\"COD_SETOR\"].isin(success)]\n",
    "df_filter.head()"
   ]
  },
  {
   "cell_type": "code",
   "execution_count": 5,
   "metadata": {},
   "outputs": [
    {
     "name": "stdout",
     "output_type": "stream",
     "text": [
      "Skiping 355030848000008.0/0.0 (-23.526855427797962,-46.70599806799465)\n",
      "Skiping 355030896000063.0/2.0 (-23.535681931700182,-46.42139251088594)\n"
     ]
    }
   ],
   "source": [
    "try:\n",
    "    retrieve_geo_df(df_filter, output_path = \"./images/streetview512\", imsize=(512,512))\n",
    "except GoogleAPIError as err:\n",
    "    print(\"An error has ocurred\")\n",
    "    print(err.message)"
   ]
  },
  {
   "cell_type": "code",
   "execution_count": null,
   "metadata": {
    "collapsed": true
   },
   "outputs": [],
   "source": []
  }
 ],
 "metadata": {
  "kernelspec": {
   "display_name": "Python 3",
   "language": "python",
   "name": "python3"
  },
  "language_info": {
   "codemirror_mode": {
    "name": "ipython",
    "version": 3
   },
   "file_extension": ".py",
   "mimetype": "text/x-python",
   "name": "python",
   "nbconvert_exporter": "python",
   "pygments_lexer": "ipython3",
   "version": "3.6.1"
  }
 },
 "nbformat": 4,
 "nbformat_minor": 2
}
